{
 "cells": [
  {
   "cell_type": "markdown",
   "metadata": {},
   "source": []
  },
  {
   "cell_type": "markdown",
   "metadata": {},
   "source": [
    "# Glossary\n",
    "__active__: An active clause contains an active verb group with a subject which is the agent of the main verb, i.e. carries out the action, e.g. *The dog bites*. \n",
    "__adverb group__: A group of words used together with an adverb as its head, for example the italicised phrase here He was *completely and utterly insensitive*. \n",
    "__clause__: A grammatical unit consisting of a verb phrase together with any associated elements such as subject, object or adverb group.\n",
    "__context__: The situation in which an utterance is used.\n",
    "__declarative clause__: A clause that most commonly functions as a statement, e.g. *He read the book in a week*.\n",
    "__ideational metafunction__: One of the three metafunctions in SFL, this is the overarching function of language which expresses experience or ideas. It describes how we use language to talk about our experience of the world, including the worlds in our own minds, to describe events and states and the entities involved in them.\n",
    "__imperative clause__: A clause with no subject, typically used for commands, e.g. *Wake up!**Put your clothes on!*\n",
    "__interpersonal metafunction__: One of the three metafunctions in SFL, this is the overarching function of language which enacts social relation. It describes how we use language to interact with other people, to establish and maintain relations with them, to influence their behaviour, to express our own viewpoint on things in the world, and to elicit or change theirs.\n",
    "__interrogative clause__: A clause that most commonly functions as a question, e.g. *Did he read the book in a week?*\n",
    "__lexical__: Relating to lexis, i.e. to the vocabulary of a language.\n",
    "__lexical verb__: A ‘content’ verb, i.e. which carries informational content, such as *walk, study, swim*.\n",
    "__lexicogrammatical choice__: The choices of wordings that people make to convey their meaning. This involves deploying lexis in particular grammatical patterns.\n",
    "__mode continuum__: The spectrum of ways of communicating, ranging from more spontaneous spoken-like to more formal, written-like language. \n",
    "__noun__: Nouns represent ‘things’ whether these be concrete objects, places and people or abstract ideas. They may be either countable (e.g. *penny, egg, idea*) or uncountable (e.g. *money, sugar, information*).\n",
    "__noun group__: A group of one or more words which together function as a noun e.g. *regulations, plenty of fresh orange juice, a long wait for the bus*.\n",
    "__object__: In a clause, the object is the participant that is affected by the action indicated by the verb. For example, in *Everybody hates Chris*, the object is *Chris*, and in *Please bring some identification with you*, the object is *some identification*. This is sometimes called the direct object, to distinguish it from the indirect object.\n",
    "__passive__: A passive verb group typically consists of be followed by a past participle, e.g. *is protected*, *has been repainted*. A passive clause contains a passive verb group, and has a subject which instead of carrying out the action, is affected by it, e.g. Gandhi *was assassinated*. \n",
    "__prepositional group__: A unit in which a noun group is linked into the clause by a preposition.\n",
    "__pronoun__: Pronouns are one of the closed word classes, and typically stand for or replace a noun group. Common examples are: I, you, he, it, they, we, us, herself, these, another, somebody, anyone, nothing. ‘I’ ‘me’ ‘mine’ ‘we’ ‘us’ and ‘ours’ are first person pronouns because they relate to the speaker or writer when referring to themselves. \n",
    "__question tag__: A question attached to the end of a statement; often a positive statement is followed by a negative question tag and vice versa, e.g. *You hit him first, *__*didn’t you*__*?*\n",
    "__subject__: In a clause, the subject is the participant that carries out the action indicated by the verb. For example, in Everybody hates Chris, the subject is Everybody (Everybody does the hating).\n",
    "__text__: In certain branches of linguistics, a text is any piece of language, whether spoken or written, which forms a unified whole (however short or brief). Texts can be written, spoken and multimodal e.g. email, greetings card, text message, transcription of a conversation, magazine article, screencast.\n",
    "__textual metafunction__: One of the three metafunctions in SFL, this is the overarching function of language which relates meaning to context. It describes how we organise our messages in ways that indicate how they fit in with the other messages around them and with the wider context in which we are talking or writing.\n",
    "__verb__: Verbs represent actions or states. They typically occur in finite and non-finite forms; e.g. She started to walk away, where *started* is a finite form and *to walk* non-finite. A verb is also a compulsory element in a clause, indicating what process is involved; this may be an action, event or situation, e.g. The referee *blew* the whistle; It *was snowing* last night; The soup *tastes* good.\n",
    "__verb group__: A group of one or more words which together function as a verb, e.g. *has been waiting*, *will vote*, *may be delivered*.\n"
   ]
  }
 ],
 "metadata": {
  "jupytext": {
   "cell_metadata_filter": "-all",
   "main_language": "python",
   "notebook_metadata_filter": "-all",
   "text_representation": {
    "extension": ".md",
    "format_name": "markdown"
   }
  }
 },
 "nbformat": 4,
 "nbformat_minor": 4
}
