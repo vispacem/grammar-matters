{
 "cells": [
  {
   "cell_type": "markdown",
   "metadata": {},
   "source": [
    "# Keep on learning\n"
   ]
  },
  {
   "cell_type": "markdown",
   "metadata": {},
   "source": [
    "![figure images/ol_skeleton_keeponlearning_image.jpg](../images/ol_skeleton_keeponlearning_image.jpg)\n",
    "\n",
    " "
   ]
  },
  {
   "cell_type": "markdown",
   "metadata": {},
   "source": [
    "---\n"
   ]
  },
  {
   "cell_type": "markdown",
   "metadata": {},
   "source": [
    "### Study another free course\n",
    "\n",
    "There are more than __800 courses on OpenLearn__ for you to choose from on a range of subjects. \n",
    "\n",
    "Find out more about all our [free courses](http://www.open.edu/openlearn/free-courses?utm_source=openlearn&amp;utm_campaign=ol&amp;utm_medium=ebook).\n",
    "\n",
    " "
   ]
  },
  {
   "cell_type": "markdown",
   "metadata": {},
   "source": [
    "---\n"
   ]
  },
  {
   "cell_type": "markdown",
   "metadata": {},
   "source": [
    "---\n"
   ]
  },
  {
   "cell_type": "markdown",
   "metadata": {},
   "source": [
    "### Take your studies further\n",
    "\n",
    "Find out more about studying with The Open University by [visiting our online prospectus](http://www.open.ac.uk/courses?utm_source=openlearn&amp;utm_campaign=ou&amp;utm_medium=ebook).\n",
    "\n",
    "If you are new to university study, you may be interested in our [Access Courses]( http://www.open.ac.uk/courses/do-it/access?utm_source=openlearn&amp;utm_campaign=ou&amp;utm_medium=ebook) or [Certificates]( http://www.open.ac.uk/courses/certificates-he?utm_source=openlearn&amp;utm_campaign=ou&amp;utm_medium=ebook).\n",
    "\n",
    " "
   ]
  },
  {
   "cell_type": "markdown",
   "metadata": {},
   "source": [
    "---\n"
   ]
  },
  {
   "cell_type": "markdown",
   "metadata": {},
   "source": [
    "---\n"
   ]
  },
  {
   "cell_type": "markdown",
   "metadata": {},
   "source": [
    "### What’s new from OpenLearn?\n",
    "\n",
    "[Sign up to our newsletter](http://www.open.edu/openlearn/about-openlearn/subscribe-the-openlearn-newsletter?utm_source=openlearn&amp;utm_campaign=ol&amp;utm_medium=ebook) or view a sample.\n",
    "\n",
    " "
   ]
  },
  {
   "cell_type": "markdown",
   "metadata": {},
   "source": [
    "---"
   ]
  },
  {
   "cell_type": "markdown",
   "metadata": {},
   "source": [
    "For reference, full URLs to pages listed above:\n",
    "\n",
    "OpenLearn – [www.open.edu/openlearn/free-courses](http://www.open.edu/openlearn/free-courses?utm_source=openlearn&amp;utm_campaign=ol&amp;utm_medium=ebook)\n",
    "\n",
    "Visiting our online prospectus – [www.open.ac.uk/courses](http://www.open.ac.uk/courses?utm_source=openlearn&amp;utm_campaign=ou&amp;utm_medium=ebook)\n",
    "\n",
    "Access Courses – [www.open.ac.uk/courses/do-it/access]( http://www.open.ac.uk/courses/do-it/access?utm_source=openlearn&amp;utm_campaign=ou&amp;utm_medium=ebook)\n",
    "\n",
    "Certificates – [www.open.ac.uk/courses/certificates-he]( http://www.open.ac.uk/courses/certificates-he?utm_source=openlearn&amp;utm_campaign=ou&amp;utm_medium=ebook)\n",
    "\n",
    "Newsletter ­– [www.open.edu/openlearn/about-openlearn/subscribe-the-openlearn-newsletter]( http://www.open.edu/openlearn/about-openlearn/subscribe-the-openlearn-newsletter?utm_source=openlearn&amp;utm_campaign=ol&amp;utm_medium=ebook)\n",
    "\n",
    "\n"
   ]
  }
 ],
 "metadata": {
  "jupytext": {
   "cell_metadata_filter": "-all",
   "main_language": "python",
   "notebook_metadata_filter": "-all",
   "text_representation": {
    "extension": ".md",
    "format_name": "markdown"
   }
  }
 },
 "nbformat": 4,
 "nbformat_minor": 4
}
