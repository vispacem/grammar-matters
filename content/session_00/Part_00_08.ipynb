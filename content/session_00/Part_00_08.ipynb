{
 "cells": [
  {
   "cell_type": "markdown",
   "metadata": {},
   "source": [
    "# Conclusion"
   ]
  },
  {
   "cell_type": "markdown",
   "metadata": {},
   "source": [
    "This free course, *Grammar matters*, has introduced you to a particular way of understanding grammar, focused on what language *does*, rather than on what it* is*. Because it is concerned with grammar as a way of making meaning (i.e. what it does), a functional approach to grammar can be particularly useful for understanding how language works in real-world contexts. Additionally, you’ve seen that the expanded view of meaning proposed by Halliday and other SFL scholars, which takes into account the ideational, interpersonal and the textual dimensions, enables a functional grammar approach to be used as a tool for intervening to address communicative issues in people’s lives. You’ve learned, for example, about how the insights of SFL can be applied to legal and educational contexts.\n",
    "\n",
    "We hope this free course has given you more insight into the relevance of grammar to everyday and professional life, and has gone some way towards convincing you that grammar matters.\n"
   ]
  }
 ],
 "metadata": {
  "jupytext": {
   "cell_metadata_filter": "-all",
   "main_language": "python",
   "notebook_metadata_filter": "-all",
   "text_representation": {
    "extension": ".md",
    "format_name": "markdown"
   }
  }
 },
 "nbformat": 4,
 "nbformat_minor": 4
}
